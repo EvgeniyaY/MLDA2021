{
 "cells": [
  {
   "cell_type": "markdown",
   "metadata": {},
   "source": [
    "# Семинар 3. Линейная регрессия\n",
    "\n",
    "Подключение библиотек. \n",
    "$\n",
    "\\newcommand{\\R}{\\mathbb{R}}\n",
    "\\newcommand{\\X}{\\mathbb{X}}\n",
    "\\newcommand{\\norm}[1]{\\lVert #1 \\rVert}\n",
    "\\newcommand{\\abs}[1]{\\left| #1 \\right|}\n",
    "\\newcommand{\\E}{\\mathbb{E}}\n",
    "\\newcommand{\\D}{\\mathbb{D}}\n",
    "\\renewcommand{\\Prob}{\\mathbb{P}}\n",
    "\\renewcommand{\\le}{\\leqslant}\n",
    "\\renewcommand{\\ge}{\\geqslant}\n",
    "$"
   ]
  },
  {
   "cell_type": "code",
   "execution_count": null,
   "metadata": {},
   "outputs": [],
   "source": [
    "import numpy as np\n",
    "import pandas as pd\n",
    "\n",
    "import matplotlib.pyplot as plt\n",
    "import seaborn as sns\n",
    "import ipywidgets as wg\n",
    "\n",
    "plt.style.use('ggplot')"
   ]
  },
  {
   "cell_type": "markdown",
   "metadata": {},
   "source": [
    "# 1. Линейная регрессия из библиотеки sklearn\n",
    "\n",
    "Для демонстрации воспользуемся датасетом __вес-рост__ ([ссылка](https://www.kaggle.com/mustafaali96/weight-height)):\n",
    "* 10000 наблюдений, 5000 мужчин и 5000 женщин. Признаки:\n",
    "    * Рост в дюймах.\n",
    "    * Вес в фунтах.\n",
    "    * Пол (Male/ Female)."
   ]
  },
  {
   "cell_type": "code",
   "execution_count": null,
   "metadata": {},
   "outputs": [],
   "source": [
    "# прочитать файл weight-height.csv"
   ]
  },
  {
   "cell_type": "markdown",
   "metadata": {},
   "source": [
    "__Задача 1:__ Переведем вес и рост в привычные единицы измерения по формулам:\n",
    "* 1 фунт = 0.453592 кг.\n",
    "* 1 дюйм = 2.54 см."
   ]
  },
  {
   "cell_type": "code",
   "execution_count": null,
   "metadata": {},
   "outputs": [],
   "source": [
    "# перевести в кг и см"
   ]
  },
  {
   "cell_type": "markdown",
   "metadata": {},
   "source": [
    "Совместное распределение данных:"
   ]
  },
  {
   "cell_type": "code",
   "execution_count": null,
   "metadata": {},
   "outputs": [],
   "source": [
    "# график совместного распределения"
   ]
  },
  {
   "cell_type": "code",
   "execution_count": null,
   "metadata": {},
   "outputs": [],
   "source": [
    "# приготовить X и y"
   ]
  },
  {
   "cell_type": "markdown",
   "metadata": {},
   "source": [
    "## Классическая линейная регрессия\n",
    "\n",
    "Пусть объект описывается $d$ признаками $(x_1, \\ldots, x_d)$ и нужно предсказать ответ $y$.\n",
    "\n",
    "__Линейная регрессия:__ $$ \\hat{y} \\sim \\theta_0 + \\sum\\limits_{k=1}^d \\theta_k x_k, $$\n",
    "\n",
    "* $\\hat{y}$ -- прогнозное значение.\n",
    "* $x_k, k=\\overline{1,n}$ -- значения признаков объекта.\n",
    "* $\\theta_k, k=\\overline{1,n}$ -- параметры модели.\n",
    "\n",
    "Векторная запись: $$\\hat{y} = x^T \\theta. $$\n",
    "\n",
    "__Примечание:__ В этой записи считаем, что $x_0 = 1$.\n",
    "\n",
    "### Обучение: \n",
    "Пусть имеется матрица признаков $X \\in \\R^{n x d}$ и вектор ответов $Y \\in \\R^n$. \n",
    "\n",
    "__Метод наименьших квадратов:__ $$Q(\\theta) = ||Y - X\\theta|| = \\sum\\limits_{k=1}^n (Y_k - X_k^T \\theta)^2 \\to \\min\\limits_\\theta.$$\n",
    "\n",
    "Оптимизация:\n",
    "* Аналитическое решение: $$\\hat{\\theta} = (X^T X)^{-1} X^T Y.$$\n",
    "* Итерационные методы: \n",
    "    * _градиентный спуск (GD):_ $$\\theta^{(k+1)} = \\theta^{(k)} - \\alpha \\cdot \\nabla Q(\\theta^{(k)}).$$\n",
    "    * _стохастический градиентный спуск (SGD):_ $$\\theta^{(k+1)} = \\theta^{(k)} - \\alpha \\cdot \\nabla_i Q(\\theta^{(k)}), $$ где градиент берется $\\nabla_i$ берется по наблюдению со случайным индексом $i$.\n",
    "    * _mini-batch стохастический градиентный спуск (Mini-batch SGD)._"
   ]
  },
  {
   "cell_type": "code",
   "execution_count": null,
   "metadata": {},
   "outputs": [],
   "source": [
    "# обучим линейную модель"
   ]
  },
  {
   "cell_type": "code",
   "execution_count": null,
   "metadata": {},
   "outputs": [],
   "source": [
    "# построим график"
   ]
  },
  {
   "cell_type": "markdown",
   "metadata": {},
   "source": [
    "# 2. Работа с категориальными признаками.\n",
    "\n",
    "Заметим, что в наших данных имеется категориальный признак _Gender_."
   ]
  },
  {
   "cell_type": "code",
   "execution_count": null,
   "metadata": {},
   "outputs": [],
   "source": [
    "# количество значений признака"
   ]
  },
  {
   "cell_type": "code",
   "execution_count": null,
   "metadata": {},
   "outputs": [],
   "source": [
    "# совместное распределение по гендеру"
   ]
  },
  {
   "cell_type": "markdown",
   "metadata": {},
   "source": [
    "__Задача:__ Занумеруем и превратим текстовые признаки в числовые значения:"
   ]
  },
  {
   "cell_type": "code",
   "execution_count": null,
   "metadata": {},
   "outputs": [],
   "source": [
    "# текстовый в числовой"
   ]
  },
  {
   "cell_type": "markdown",
   "metadata": {},
   "source": [
    "__Задача:__ Обученить линейную модель с двумя признаками."
   ]
  },
  {
   "cell_type": "code",
   "execution_count": null,
   "metadata": {},
   "outputs": [],
   "source": [
    "# линейная модель с 2 признаками"
   ]
  },
  {
   "cell_type": "code",
   "execution_count": null,
   "metadata": {},
   "outputs": [],
   "source": [
    "x_plt = np.linspace(130, 210, 1024)\n",
    "\n",
    "male_pred = model.predict(np.column_stack([x_plt, np.zeros_like(x_plt)]))\n",
    "female_pred = model.predict(np.column_stack([x_plt, np.ones_like(x_plt)]))\n",
    "\n",
    "plt.figure(figsize=(12, 8))\n",
    "plt.scatter(data=df[df.GenderCode==0], x='Height', y='Weight', color='orange', alpha=0.5, label='Male')\n",
    "plt.scatter(data=df[df.GenderCode==1], x='Height', y='Weight', color='green', alpha=0.5, label='Female')\n",
    "\n",
    "plt.plot(x_plt, male_pred, color='purple', label='Male')\n",
    "plt.plot(x_plt, female_pred, color='blue', label='Female')\n",
    "plt.legend()\n",
    "plt.show()"
   ]
  },
  {
   "cell_type": "markdown",
   "metadata": {},
   "source": [
    "### Интерпретация модели"
   ]
  },
  {
   "cell_type": "code",
   "execution_count": null,
   "metadata": {},
   "outputs": [],
   "source": [
    "# посмотрим на коэффициенты модели"
   ]
  },
  {
   "cell_type": "code",
   "execution_count": null,
   "metadata": {},
   "outputs": [],
   "source": [
    "# демонстрация\n",
    "out = wg.Output()\n",
    "\n",
    "def demo(height, gender):\n",
    "    gender = 0 if gender == 'Male' else 1\n",
    "    with out:\n",
    "        out.clear_output(wait=True)\n",
    "        pred = model.predict([[height, gender]])\n",
    "        print('Прогноз Вашего веса при заданных параметрах:', pred)\n",
    "    return\n",
    "\n",
    "wg.interact(demo,\n",
    "    height=wg.FloatSlider(min=120, max=220, value=170, step=1),\n",
    "    gender=wg.SelectionSlider(options=['Male', 'Female'], value='Male'),\n",
    "    continuous_update=True\n",
    ")\n",
    "display(out)"
   ]
  },
  {
   "cell_type": "markdown",
   "metadata": {},
   "source": [
    "# 3. Нелинейная линейная регрессия\n",
    "\n",
    "Как добавить нелинейности в линейную модель?"
   ]
  },
  {
   "cell_type": "code",
   "execution_count": null,
   "metadata": {},
   "outputs": [],
   "source": [
    "# задать функцию func = sin x"
   ]
  },
  {
   "cell_type": "code",
   "execution_count": null,
   "metadata": {},
   "outputs": [],
   "source": [
    "# сгенерируем выборку с шумом из функции sin x"
   ]
  },
  {
   "cell_type": "markdown",
   "metadata": {},
   "source": [
    "__Полиномиальная регрессия:__ $$ y \\sim \\theta_0 + \\sum\\limits_{k=1}^p \\theta_k x^k.$$\n",
    "\n",
    "__Задача:__ По входному вектору $x$ выдать матрицу, где в столбцах стоят степени $x$: $$ x \\to (x, x^2, \\ldots, x^p).$$"
   ]
  },
  {
   "cell_type": "code",
   "execution_count": null,
   "metadata": {},
   "outputs": [],
   "source": [
    "# def polynom(x):"
   ]
  },
  {
   "cell_type": "code",
   "execution_count": null,
   "metadata": {},
   "outputs": [],
   "source": [
    "# преобразовать X"
   ]
  },
  {
   "cell_type": "markdown",
   "metadata": {},
   "source": [
    "### Работа с числовыми признаками\n",
    "\n",
    "Преобразования числовых признаков:\n",
    "* нормализация: $$\\tilde{x}_k = \\frac{x_k - \\E x_k}{\\sqrt{\\D x_k}}.$$\n",
    "* минмакс-преобразование: $$\\tilde{x}_k = \\frac{x_k - \\min{x_k}}{\\max{x_k} - \\min{x_k}}.$$"
   ]
  },
  {
   "cell_type": "code",
   "execution_count": null,
   "metadata": {},
   "outputs": [],
   "source": [
    "# исходные средние"
   ]
  },
  {
   "cell_type": "code",
   "execution_count": null,
   "metadata": {},
   "outputs": [],
   "source": [
    "# нормализация признаков"
   ]
  },
  {
   "cell_type": "code",
   "execution_count": null,
   "metadata": {},
   "outputs": [],
   "source": [
    "# новые средние"
   ]
  },
  {
   "cell_type": "markdown",
   "metadata": {},
   "source": [
    "## Пример: полиномиальная регрессия"
   ]
  },
  {
   "cell_type": "code",
   "execution_count": null,
   "metadata": {},
   "outputs": [],
   "source": [
    "# учим модель"
   ]
  },
  {
   "cell_type": "code",
   "execution_count": null,
   "metadata": {},
   "outputs": [],
   "source": [
    "# предсказываем новые данные"
   ]
  },
  {
   "cell_type": "code",
   "execution_count": null,
   "metadata": {},
   "outputs": [],
   "source": [
    "plt.figure(0, figsize=(12, 5))\n",
    "plt.scatter(X, y, color='blue')\n",
    "plt.plot(x_new, y_new, color='green', label='Polynomial Regression')\n",
    "plt.legend()\n",
    "plt.title('y ~ sin(x)')\n",
    "plt.show()"
   ]
  },
  {
   "cell_type": "markdown",
   "metadata": {},
   "source": [
    "# Демонстрация переобучения"
   ]
  },
  {
   "cell_type": "code",
   "execution_count": null,
   "metadata": {},
   "outputs": [],
   "source": [
    "out = wg.Output()\n",
    "\n",
    "def demo(p, fix_ylim):\n",
    "    # прогнать модель с новым p\n",
    "    \n",
    "    with out:\n",
    "        out.clear_output(wait=True)\n",
    "        plt.figure(0, figsize=(12, 5))\n",
    "        plt.scatter(X, y, color='blue')\n",
    "        plt.plot(x_new, y_new, color='green', label=f'p={p}')\n",
    "        plt.legend()\n",
    "        plt.title('y ~ sin(x)')\n",
    "        if fix_ylim:\n",
    "            plt.ylim(-2, 2)\n",
    "        plt.show()\n",
    "    \n",
    "wg.interact(demo,\n",
    "    p=wg.IntSlider(min=1, max=X.shape[0], value=1),\n",
    "    fix_ylim=wg.Checkbox(description='Fix ylim', value=False),\n",
    "    continuous_update=True\n",
    ")\n",
    "display(out)"
   ]
  },
  {
   "cell_type": "code",
   "execution_count": null,
   "metadata": {},
   "outputs": [],
   "source": []
  }
 ],
 "metadata": {
  "kernelspec": {
   "display_name": "Python 3.7.9 venv",
   "language": "python",
   "name": "python37"
  },
  "language_info": {
   "codemirror_mode": {
    "name": "ipython",
    "version": 3
   },
   "file_extension": ".py",
   "mimetype": "text/x-python",
   "name": "python",
   "nbconvert_exporter": "python",
   "pygments_lexer": "ipython3",
   "version": "3.7.9"
  }
 },
 "nbformat": 4,
 "nbformat_minor": 4
}
